{
 "cells": [
  {
   "cell_type": "code",
   "execution_count": 1,
   "id": "51d2ce6e",
   "metadata": {
    "_cell_guid": "b1076dfc-b9ad-4769-8c92-a6c4dae69d19",
    "_uuid": "8f2839f25d086af736a60e9eeb907d3b93b6e0e5",
    "execution": {
     "iopub.execute_input": "2025-05-09T20:43:07.664332Z",
     "iopub.status.busy": "2025-05-09T20:43:07.663446Z",
     "iopub.status.idle": "2025-05-09T20:43:09.601085Z",
     "shell.execute_reply": "2025-05-09T20:43:09.600052Z"
    },
    "papermill": {
     "duration": 1.944178,
     "end_time": "2025-05-09T20:43:09.602626",
     "exception": false,
     "start_time": "2025-05-09T20:43:07.658448",
     "status": "completed"
    },
    "tags": []
   },
   "outputs": [
    {
     "name": "stdout",
     "output_type": "stream",
     "text": [
      "/kaggle/input/loan-prediction-problem-dataset/test_Y3wMUE5_7gLdaTN.csv\n",
      "/kaggle/input/loan-prediction-problem-dataset/train_u6lujuX_CVtuZ9i.csv\n"
     ]
    }
   ],
   "source": [
    "# This Python 3 environment comes with many helpful analytics libraries installed\n",
    "# It is defined by the kaggle/python Docker image: https://github.com/kaggle/docker-python\n",
    "# For example, here's several helpful packages to load\n",
    "\n",
    "import numpy as np # linear algebra\n",
    "import pandas as pd # data processing, CSV file I/O (e.g. pd.read_csv)\n",
    "\n",
    "# Input data files are available in the read-only \"../input/\" directory\n",
    "# For example, running this (by clicking run or pressing Shift+Enter) will list all files under the input directory\n",
    "\n",
    "import os\n",
    "for dirname, _, filenames in os.walk('/kaggle/input'):\n",
    "    for filename in filenames:\n",
    "        print(os.path.join(dirname, filename))\n",
    "\n",
    "# You can write up to 20GB to the current directory (/kaggle/working/) that gets preserved as output when you create a version using \"Save & Run All\" \n",
    "# You can also write temporary files to /kaggle/temp/, but they won't be saved outside of the current session"
   ]
  },
  {
   "cell_type": "code",
   "execution_count": 2,
   "id": "ef2a9c90",
   "metadata": {
    "execution": {
     "iopub.execute_input": "2025-05-09T20:43:09.610504Z",
     "iopub.status.busy": "2025-05-09T20:43:09.610111Z",
     "iopub.status.idle": "2025-05-09T20:43:12.309974Z",
     "shell.execute_reply": "2025-05-09T20:43:12.309096Z"
    },
    "papermill": {
     "duration": 2.705687,
     "end_time": "2025-05-09T20:43:12.311807",
     "exception": false,
     "start_time": "2025-05-09T20:43:09.606120",
     "status": "completed"
    },
    "tags": []
   },
   "outputs": [],
   "source": [
    "from sklearn.ensemble import RandomForestClassifier\n",
    "from sklearn.metrics import accuracy_score ,confusion_matrix , precision_score , recall_score ,ConfusionMatrixDisplay , classification_report\n",
    "from sklearn.model_selection import train_test_split , cross_val_score\n",
    "from scipy.stats import randint\n",
    "from sklearn.tree import export_graphviz\n",
    "from IPython.display import Image\n",
    "import graphviz\n",
    "from sklearn.impute import SimpleImputer\n",
    "from sklearn.preprocessing import OneHotEncoder ,StandardScaler\n",
    "from sklearn.pipeline import Pipeline\n",
    "from sklearn.compose import ColumnTransformer\n",
    "from sklearn.tree import DecisionTreeClassifier\n",
    "import matplotlib.pyplot as plt\n",
    "import seaborn as sns\n",
    "\n"
   ]
  },
  {
   "cell_type": "code",
   "execution_count": 3,
   "id": "bfb0acff",
   "metadata": {
    "execution": {
     "iopub.execute_input": "2025-05-09T20:43:12.320874Z",
     "iopub.status.busy": "2025-05-09T20:43:12.319668Z",
     "iopub.status.idle": "2025-05-09T20:43:12.342886Z",
     "shell.execute_reply": "2025-05-09T20:43:12.342081Z"
    },
    "papermill": {
     "duration": 0.029,
     "end_time": "2025-05-09T20:43:12.344510",
     "exception": false,
     "start_time": "2025-05-09T20:43:12.315510",
     "status": "completed"
    },
    "tags": []
   },
   "outputs": [],
   "source": [
    "df=pd.read_csv(\"/kaggle/input/loan-prediction-problem-dataset/train_u6lujuX_CVtuZ9i.csv\")"
   ]
  },
  {
   "cell_type": "code",
   "execution_count": 4,
   "id": "eebcc4b1",
   "metadata": {
    "execution": {
     "iopub.execute_input": "2025-05-09T20:43:12.351990Z",
     "iopub.status.busy": "2025-05-09T20:43:12.351625Z",
     "iopub.status.idle": "2025-05-09T20:43:12.370473Z",
     "shell.execute_reply": "2025-05-09T20:43:12.369552Z"
    },
    "papermill": {
     "duration": 0.024464,
     "end_time": "2025-05-09T20:43:12.372192",
     "exception": false,
     "start_time": "2025-05-09T20:43:12.347728",
     "status": "completed"
    },
    "tags": []
   },
   "outputs": [],
   "source": [
    "df['TotalIncome'] = df['ApplicantIncome'] + df['CoapplicantIncome']\n",
    "df['LoanAmount'] = df['LoanAmount'].fillna(df['LoanAmount'].median())\n",
    "df = df[df['LoanAmount'] > 0]\n",
    "df['LoanAmountLog'] = np.log1p(df['LoanAmount'])\n",
    "df['DebtRatio'] = df['LoanAmount'] / (df['TotalIncome'] + 1)"
   ]
  },
  {
   "cell_type": "code",
   "execution_count": 5,
   "id": "77749d96",
   "metadata": {
    "execution": {
     "iopub.execute_input": "2025-05-09T20:43:12.379896Z",
     "iopub.status.busy": "2025-05-09T20:43:12.379300Z",
     "iopub.status.idle": "2025-05-09T20:43:12.388974Z",
     "shell.execute_reply": "2025-05-09T20:43:12.388210Z"
    },
    "papermill": {
     "duration": 0.014785,
     "end_time": "2025-05-09T20:43:12.390356",
     "exception": false,
     "start_time": "2025-05-09T20:43:12.375571",
     "status": "completed"
    },
    "tags": []
   },
   "outputs": [],
   "source": [
    "df = df.drop(['Loan_ID', 'ApplicantIncome', 'CoapplicantIncome', 'LoanAmount'], axis=1)\n"
   ]
  },
  {
   "cell_type": "code",
   "execution_count": 6,
   "id": "29b7e586",
   "metadata": {
    "execution": {
     "iopub.execute_input": "2025-05-09T20:43:12.398387Z",
     "iopub.status.busy": "2025-05-09T20:43:12.398099Z",
     "iopub.status.idle": "2025-05-09T20:43:12.403932Z",
     "shell.execute_reply": "2025-05-09T20:43:12.403200Z"
    },
    "papermill": {
     "duration": 0.011869,
     "end_time": "2025-05-09T20:43:12.405247",
     "exception": false,
     "start_time": "2025-05-09T20:43:12.393378",
     "status": "completed"
    },
    "tags": []
   },
   "outputs": [],
   "source": [
    "X = df.drop('Loan_Status', axis=1)\n",
    "y = df['Loan_Status'].map({'N': 0, 'Y': 1})"
   ]
  },
  {
   "cell_type": "code",
   "execution_count": 7,
   "id": "fad00bf4",
   "metadata": {
    "execution": {
     "iopub.execute_input": "2025-05-09T20:43:12.411936Z",
     "iopub.status.busy": "2025-05-09T20:43:12.411629Z",
     "iopub.status.idle": "2025-05-09T20:43:12.415908Z",
     "shell.execute_reply": "2025-05-09T20:43:12.415113Z"
    },
    "papermill": {
     "duration": 0.009193,
     "end_time": "2025-05-09T20:43:12.417307",
     "exception": false,
     "start_time": "2025-05-09T20:43:12.408114",
     "status": "completed"
    },
    "tags": []
   },
   "outputs": [],
   "source": [
    "numeric_features = ['Loan_Amount_Term', 'Credit_History', 'TotalIncome', 'LoanAmountLog', 'DebtRatio']\n",
    "categorical_features = [col for col in X.columns if col not in numeric_features]"
   ]
  },
  {
   "cell_type": "code",
   "execution_count": 8,
   "id": "cf06c538",
   "metadata": {
    "execution": {
     "iopub.execute_input": "2025-05-09T20:43:12.424238Z",
     "iopub.status.busy": "2025-05-09T20:43:12.423871Z",
     "iopub.status.idle": "2025-05-09T20:43:12.429087Z",
     "shell.execute_reply": "2025-05-09T20:43:12.428270Z"
    },
    "papermill": {
     "duration": 0.01016,
     "end_time": "2025-05-09T20:43:12.430384",
     "exception": false,
     "start_time": "2025-05-09T20:43:12.420224",
     "status": "completed"
    },
    "tags": []
   },
   "outputs": [],
   "source": [
    "numeric_pipeline = Pipeline([\n",
    "    ('imputer', SimpleImputer(strategy='mean')),\n",
    "    ('scaler', StandardScaler())\n",
    "])\n",
    "categorical_pipeline = Pipeline([\n",
    "    ('imputer', SimpleImputer(strategy='most_frequent')),\n",
    "    ('encoder', OneHotEncoder(handle_unknown='ignore'))\n",
    "])\n",
    "preprocessor = ColumnTransformer([\n",
    "    ('num', numeric_pipeline, numeric_features),\n",
    "    ('cat', categorical_pipeline, categorical_features)\n",
    "])\n",
    "\n"
   ]
  },
  {
   "cell_type": "code",
   "execution_count": 9,
   "id": "bebb23de",
   "metadata": {
    "execution": {
     "iopub.execute_input": "2025-05-09T20:43:12.437454Z",
     "iopub.status.busy": "2025-05-09T20:43:12.437017Z",
     "iopub.status.idle": "2025-05-09T20:43:12.444182Z",
     "shell.execute_reply": "2025-05-09T20:43:12.443367Z"
    },
    "papermill": {
     "duration": 0.012188,
     "end_time": "2025-05-09T20:43:12.445648",
     "exception": false,
     "start_time": "2025-05-09T20:43:12.433460",
     "status": "completed"
    },
    "tags": []
   },
   "outputs": [],
   "source": [
    "X_train, X_test, y_train, y_test = train_test_split(X, y, test_size=0.2, random_state=42)\n",
    "rf_pipeline = Pipeline([\n",
    "    ('preprocessing', preprocessor),\n",
    "    ('classifier', RandomForestClassifier(n_estimators=100, max_depth=6, random_state=42))\n",
    "])"
   ]
  },
  {
   "cell_type": "code",
   "execution_count": 10,
   "id": "aa42878e",
   "metadata": {
    "execution": {
     "iopub.execute_input": "2025-05-09T20:43:12.452553Z",
     "iopub.status.busy": "2025-05-09T20:43:12.452294Z",
     "iopub.status.idle": "2025-05-09T20:43:12.641361Z",
     "shell.execute_reply": "2025-05-09T20:43:12.640618Z"
    },
    "papermill": {
     "duration": 0.194487,
     "end_time": "2025-05-09T20:43:12.643074",
     "exception": false,
     "start_time": "2025-05-09T20:43:12.448587",
     "status": "completed"
    },
    "tags": []
   },
   "outputs": [],
   "source": [
    "rf_pipeline.fit(X_train, y_train)\n",
    "y_pred_rf = rf_pipeline.predict(X_test)\n"
   ]
  },
  {
   "cell_type": "code",
   "execution_count": 11,
   "id": "61b9b73d",
   "metadata": {
    "execution": {
     "iopub.execute_input": "2025-05-09T20:43:12.650406Z",
     "iopub.status.busy": "2025-05-09T20:43:12.649752Z",
     "iopub.status.idle": "2025-05-09T20:43:12.664785Z",
     "shell.execute_reply": "2025-05-09T20:43:12.663752Z"
    },
    "papermill": {
     "duration": 0.020327,
     "end_time": "2025-05-09T20:43:12.666400",
     "exception": false,
     "start_time": "2025-05-09T20:43:12.646073",
     "status": "completed"
    },
    "tags": []
   },
   "outputs": [
    {
     "name": "stdout",
     "output_type": "stream",
     "text": [
      "🔹 Random Forest Accuracy: 0.8048780487804879\n",
      "              precision    recall  f1-score   support\n",
      "\n",
      "           0       0.91      0.49      0.64        43\n",
      "           1       0.78      0.97      0.87        80\n",
      "\n",
      "    accuracy                           0.80       123\n",
      "   macro avg       0.85      0.73      0.75       123\n",
      "weighted avg       0.83      0.80      0.79       123\n",
      "\n",
      "Confusion Matrix:\n",
      " [[21 22]\n",
      " [ 2 78]]\n"
     ]
    }
   ],
   "source": [
    "print(\"🔹 Random Forest Accuracy:\", accuracy_score(y_test, y_pred_rf))\n",
    "print(classification_report(y_test, y_pred_rf))\n",
    "print(\"Confusion Matrix:\\n\", confusion_matrix(y_test, y_pred_rf))"
   ]
  },
  {
   "cell_type": "code",
   "execution_count": 12,
   "id": "9bc10cc0",
   "metadata": {
    "execution": {
     "iopub.execute_input": "2025-05-09T20:43:12.674064Z",
     "iopub.status.busy": "2025-05-09T20:43:12.673480Z",
     "iopub.status.idle": "2025-05-09T20:43:12.684624Z",
     "shell.execute_reply": "2025-05-09T20:43:12.683884Z"
    },
    "papermill": {
     "duration": 0.016445,
     "end_time": "2025-05-09T20:43:12.685958",
     "exception": false,
     "start_time": "2025-05-09T20:43:12.669513",
     "status": "completed"
    },
    "tags": []
   },
   "outputs": [],
   "source": [
    "rf_model = rf_pipeline.named_steps['classifier']\n",
    "onehot_features = rf_pipeline.named_steps['preprocessing'].transformers_[1][1].named_steps['encoder'].get_feature_names_out(categorical_features)\n",
    "feature_names = numeric_features + list(onehot_features)\n",
    "\n",
    "importances = rf_model.feature_importances_\n",
    "feat_imp = pd.Series(importances, index=feature_names).sort_values(ascending=False)\n"
   ]
  },
  {
   "cell_type": "code",
   "execution_count": 13,
   "id": "29e8804a",
   "metadata": {
    "execution": {
     "iopub.execute_input": "2025-05-09T20:43:12.693585Z",
     "iopub.status.busy": "2025-05-09T20:43:12.692955Z",
     "iopub.status.idle": "2025-05-09T20:43:13.029763Z",
     "shell.execute_reply": "2025-05-09T20:43:13.028889Z"
    },
    "papermill": {
     "duration": 0.342406,
     "end_time": "2025-05-09T20:43:13.031456",
     "exception": false,
     "start_time": "2025-05-09T20:43:12.689050",
     "status": "completed"
    },
    "tags": []
   },
   "outputs": [
    {
     "data": {
      "image/png": "[encoded data removed]",
      "text/plain": [
       "<Figure size 1000x600 with 1 Axes>"
      ]
     },
     "metadata": {},
     "output_type": "display_data"
    }
   ],
   "source": [
    "plt.figure(figsize=(10, 6))\n",
    "sns.barplot(x=feat_imp.values[:10], y=feat_imp.index[:10])\n",
    "plt.title('Top 10 Feature Importances – Random Forest')\n",
    "plt.xlabel('Importance Score')\n",
    "plt.ylabel('Feature')\n",
    "plt.tight_layout()\n",
    "plt.show()"
   ]
  }
 ],
 "metadata": {
  "kaggle": {
   "accelerator": "none",
   "dataSources": [
    {
     "datasetId": 137197,
     "sourceId": 325031,
     "sourceType": "datasetVersion"
    }
   ],
   "dockerImageVersionId": 31012,
   "isGpuEnabled": false,
   "isInternetEnabled": false,
   "language": "python",
   "sourceType": "notebook"
  },
  "kernelspec": {
   "display_name": "Python 3",
   "language": "python",
   "name": "python3"
  },
  "language_info": {
   "codemirror_mode": {
    "name": "ipython",
    "version": 3
   },
   "file_extension": ".py",
   "mimetype": "text/x-python",
   "name": "python",
   "nbconvert_exporter": "python",
   "pygments_lexer": "ipython3",
   "version": "3.11.11"
  },
  "papermill": {
   "default_parameters": {},
   "duration": 10.817021,
   "end_time": "2025-05-09T20:43:13.755655",
   "environment_variables": {},
   "exception": null,
   "input_path": "__notebook__.ipynb",
   "output_path": "__notebook__.ipynb",
   "parameters": {},
   "start_time": "2025-05-09T20:43:02.938634",
   "version": "2.6.0"
  }
 },
 "nbformat": 4,
 "nbformat_minor": 5
}
